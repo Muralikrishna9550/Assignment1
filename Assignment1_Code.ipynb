{
  "nbformat": 4,
  "nbformat_minor": 0,
  "metadata": {
    "colab": {
      "provenance": []
    },
    "kernelspec": {
      "name": "python3",
      "display_name": "Python 3"
    },
    "language_info": {
      "name": "python"
    }
  },
  "cells": [
    {
      "cell_type": "code",
      "execution_count": null,
      "metadata": {
        "id": "LvqFAIFPNzRf",
        "colab": {
          "base_uri": "https://localhost:8080/"
        },
        "outputId": "61c4ca05-5668-43ec-dfb1-02ac4dbc2fc7"
      },
      "outputs": [
        {
          "output_type": "stream",
          "name": "stdout",
          "text": [
            "Enter the string 'Python': python\n",
            "The Reversed String:\n",
            "noht\n",
            "Enter the 1st no.: 4\n",
            "Enter the 2nd no.: 5\n",
            "arithmetic operations\n",
            "addition:a1+a2= 9.0\n",
            "multiplication:a1*a2= 20.0\n",
            "substraction:a1-a2= -1.0\n",
            "Division:a1/a2= 0.8\n"
          ]
        }
      ],
      "source": [
        "# Getting input string \"Python\" as a list from the console\n",
        "string = list(input(\"Enter the string 'Python': \"))\n",
        "\n",
        "if len(string) >=2:\n",
        "   del string[:2]\n",
        "\n",
        "# Reverse the result string\n",
        "resultstring = string[::-1]\n",
        "\n",
        "# Print the reversed string\n",
        "print(\"The Reversed String:\")\n",
        "print(\"\".join(resultstring))\n",
        "\n",
        "# Take two numbers from the user\n",
        "a1 = float(input(\"Enter the 1st no.: \"))\n",
        "a2 = float(input(\"Enter the 2nd no.: \"))\n",
        "\n",
        "# Performing  4 arithmetic operations\n",
        "addition = a1 + a2\n",
        "subtraction = a1 - a2\n",
        "multiplication = a1 * a2\n",
        "division = a1 / a2\n",
        "\n",
        "print(\"arithmetic operations\")\n",
        "print(\"addition:a1+a2=\",a1+a2)\n",
        "print(\"multiplication:a1*a2=\",a1*a2)\n",
        "print(\"substraction:a1-a2=\",a1-a2)\n",
        "print(\"Division:a1/a2=\",a1/a2)"
      ]
    },
    {
      "cell_type": "code",
      "source": [
        "# Accept a sentence from the user\n",
        "word1 = input(\"Enter a sentence: \")\n",
        "\n",
        "# Replace each occurrence of 'python' with 'pythons'\n",
        "resultant_word = word1.replace('python', 'pythons')\n",
        "\n",
        "# Print the result\n",
        "print(\"result_word:\")\n",
        "print(resultant_word)\n"
      ],
      "metadata": {
        "colab": {
          "base_uri": "https://localhost:8080/"
        },
        "id": "CMDneMeqiAem",
        "outputId": "494f0fd6-b943-4069-c3c3-514af99ad221"
      },
      "execution_count": null,
      "outputs": [
        {
          "output_type": "stream",
          "name": "stdout",
          "text": [
            "Enter a sentence: I like python\n",
            "result_word:\n",
            "I like pythons\n"
          ]
        }
      ]
    },
    {
      "cell_type": "code",
      "source": [
        "# Get the class score from the user\n",
        "class_score = float(input(\"Provide the class score: \"))\n",
        "\n",
        "# Determine the letter grade based on the grading scheme\n",
        "if class_score >= 90:\n",
        "    grade = 'A'\n",
        "elif class_score >= 80:\n",
        "    grade = 'B'\n",
        "elif class_score >= 70:\n",
        "    grade = 'C'\n",
        "elif class_score >= 60:\n",
        "    grade = 'D'\n",
        "else:\n",
        "    grade = 'F'\n",
        "\n",
        "# Print the letter grade\n",
        "print(f\"The grade for the class score {class_score} is: {grade}\")\n"
      ],
      "metadata": {
        "id": "UykPOVYY7QD0",
        "colab": {
          "base_uri": "https://localhost:8080/"
        },
        "outputId": "2cbeecd9-67e7-498b-8e81-4d8c24305131"
      },
      "execution_count": null,
      "outputs": [
        {
          "output_type": "stream",
          "name": "stdout",
          "text": [
            "Provide the class score: 90\n",
            "The grade for the class score 90.0 is: A\n"
          ]
        }
      ]
    }
  ]
}